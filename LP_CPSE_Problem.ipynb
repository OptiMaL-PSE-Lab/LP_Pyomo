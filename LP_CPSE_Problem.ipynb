{
 "cells": [
  {
   "cell_type": "markdown",
   "source": [
    "# Problem Statement (Jenchura, 2017)\n",
    "A brewery receives an order for 100 gallons of 4% ABV (alcohol by volume) beer. The brewery has on hand beer A that is 4.5% ABV that cost USD 0.32 per gallon to make, and beer B that is 3.7% ABV and cost USD 0.25 per gallon. Water could also be used as a blending agent at a cost of USD 0.05 per gallon. \n",
    "\n",
    "---\n",
    "\n",
    "## _Find the minimum cost blend that meets the customer requirements._"
   ],
   "metadata": {}
  },
  {
   "cell_type": "code",
   "execution_count": 1,
   "source": [
    "%matplotlib inline\n",
    "import matplotlib.pyplot as plt\n",
    "import numpy as np\n",
    "import pandas as pd\n",
    "import shutil\n",
    "import sys\n",
    "import os.path\n",
    "from pyomo.environ import * "
   ],
   "outputs": [],
   "metadata": {}
  },
  {
   "cell_type": "markdown",
   "source": [
    "## **Exercise 1.** _Write down the objective function and constraints of the problem_\n",
    "Try using the following notation_\n",
    "\n",
    "Volume of liquid $x = V_x$,\n",
    "ABV of liquid $x = A_x$,\n",
    "Cost of liquid $x = C_x$\n",
    "\n",
    "Make sure all your functions are linear!\n",
    "\n",
    "**Hint...**  There are 2 constraints to the problem\n",
    "\n",
    "---\n",
    "\n",
    "**Exercise 2.** _Implement your equations in Pyomo_\n",
    "\n",
    "**Hint...** You might want to store your ABV and Cost parameters as arrays, you can also check the other notebook for examples!\n"
   ],
   "metadata": {}
  },
  {
   "cell_type": "code",
   "execution_count": null,
   "source": [
    "m = ConcreteModel()\n",
    "\n",
    "\n",
    "# Your code here...\n",
    "\n",
    "\n",
    "# Check to see if your cost is optimal...\n",
    "if m.obj() == 27.625:\n",
    "\tprint('Good job! this is the optimal cost')\n",
    "else:\n",
    "\tprint('Something is wrong, feel free to ask for help!')\n"
   ],
   "outputs": [],
   "metadata": {}
  },
  {
   "cell_type": "markdown",
   "source": [
    "You are a business-savvy brewer, and your friend has just sent you a [link containing information about brewing standards in the UK](https://www.bromley.gov.uk/leaflet/327479/3/757/d).\n",
    "\n",
    "You learn that you are now allowed $\\pm0.5\\%$ alcohol-per-volume from your stated ABV of 4%.\n",
    "\n",
    "**Exercise 3.**\n",
    "_Utilise this information to relax one of your constraints and resolve the problem._\n",
    "\n",
    "- _What is the actual ABV of your newly mixed beer?_\n",
    "- _How much does it cost to produce?_\n",
    "---"
   ],
   "metadata": {}
  },
  {
   "cell_type": "markdown",
   "source": [
    "You discover that the market for beer has grown significantly since the end of lockdown and now plan to produce 150L as opposed to 100L.\n",
    "\n",
    "**Exercise 4.**\n",
    "_Tighten one of your constraints and resolve the problem._\n",
    "\n",
    "- _How much does it cost to produce?_\n",
    "---"
   ],
   "metadata": {}
  },
  {
   "cell_type": "markdown",
   "source": [
    "**Exercise 5.** _Interpret the following sensitivity analysis, what do the results mean with respect to the constraints?_\n",
    "\n",
    "This is also the answer for exercise 2. "
   ],
   "metadata": {}
  },
  {
   "cell_type": "code",
   "execution_count": null,
   "source": [
    "# create the model\n",
    "m = ConcreteModel()\n",
    "\n",
    "# define variables\n",
    "m.x = Var([1,2,3], bounds = (np.PZERO,np.inf))\n",
    "total_volume = 100\n",
    "final_abv = 0.04\n",
    "cost_A = 0.32\n",
    "cost_B = 0.25\n",
    "cost_W = 0.051\n",
    "abv_A = 0.045\n",
    "abv_B = 0.037\n",
    "abv_W = 0.000\n",
    "# var[1] = volume A; var[2] = volume B; var[3] = volume W\n",
    "\n",
    "# for access to dual solution for constraints\n",
    "m.dual = Suffix(direction=Suffix.IMPORT)\n",
    "\n",
    "# define objective function\n",
    "m.obj = Objective(expr = m.x[1]*cost_A + m.x[2]*cost_B + m.x[3]*cost_W, \\\n",
    "                  sense=minimize)\n",
    "\n",
    "# define the constraint\n",
    "m.g1 = Constraint(expr = m.x[1] + m.x[2] + m.x[3] == total_volume)\n",
    "m.g2 = Constraint(expr = m.x[1]*abv_A + m.x[2]*abv_B + m.x[3]*abv_W == total_volume*final_abv)\n",
    "\n",
    "# display model\n",
    "m.pprint()\n",
    "\n",
    "# call solver\n",
    "SolverFactory('cbc').solve(m)\n",
    "\n",
    "# display solution\n",
    "print('\\nObjective value = ', m.obj())\n",
    "\n",
    "print('\\nDecision Variables')\n",
    "print('$x_1$ = ', m.x[1]())\n",
    "print('$x_2$ = ', m.x[2]())\n",
    "print('$x_3$ = ', m.x[3]())"
   ],
   "outputs": [],
   "metadata": {}
  },
  {
   "cell_type": "code",
   "execution_count": null,
   "source": [
    "print('\\nObjective value = ', m.obj())\n",
    "print(\"\\nSolution\")\n",
    "print(f\"x1 = {m.x[1]()}\")\n",
    "print(f\"x2 = {m.x[2]()}\")\n",
    "print(f\"x3 = {m.x[3]()}\")\n",
    "\n",
    "print(\"\\nSensitivity Analysis\")\n",
    "print(f\"g1 = {m.dual[m.g1]}\")\n",
    "print(f\"g2 = {m.dual[m.g2]}\")"
   ],
   "outputs": [],
   "metadata": {}
  }
 ],
 "metadata": {
  "interpreter": {
   "hash": "569d6b7e9215e11aba41c6454007e5c1b78bad7df09dab765d8cf00362c40f03"
  },
  "kernelspec": {
   "name": "python3",
   "display_name": "Python 3.9.1 64-bit ('base': conda)"
  },
  "language_info": {
   "codemirror_mode": {
    "name": "ipython",
    "version": 3
   },
   "file_extension": ".py",
   "mimetype": "text/x-python",
   "name": "python",
   "nbconvert_exporter": "python",
   "pygments_lexer": "ipython3",
   "version": "3.9.1"
  }
 },
 "nbformat": 4,
 "nbformat_minor": 4
}
